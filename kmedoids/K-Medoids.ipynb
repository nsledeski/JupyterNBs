{
 "cells": [
  {
   "cell_type": "code",
   "execution_count": 18,
   "metadata": {
    "collapsed": true
   },
   "outputs": [],
   "source": [
    "import numpy as np\n",
    "import matplotlib.pylab as pylab"
   ]
  },
  {
   "cell_type": "code",
   "execution_count": 19,
   "metadata": {
    "collapsed": true
   },
   "outputs": [],
   "source": [
    "#various distance metrics (euclidian/l1(manhattan)/l∞)\n",
    "def manhattan(x1, x2):\n",
    "    md = 0\n",
    "    for d in range(len(x1)):\n",
    "        md += abs(x1[d] - x2[d])\n",
    "    return md\n",
    "\n",
    "def euclidean(x1, x2):\n",
    "    md = 0\n",
    "    for d in range(len(x1)):\n",
    "        md += float(abs(x1[d]**2 - x2[d]**2))\n",
    "    return md**.5\n",
    "\n",
    "def linf(x1, x2):\n",
    "    md = max((abs(x1[i] - x2[i]) for i in range(len(x1))))\n",
    "    return md\n"
   ]
  },
  {
   "cell_type": "code",
   "execution_count": 26,
   "metadata": {
    "collapsed": false
   },
   "outputs": [],
   "source": [
    "#training_set: array of data points [[x1_1, x1_2], [x2_1, x2_2], ...]]\n",
    "#medoids: array of k centers\n",
    "def cluster(training_set, distancetype, k=3):\n",
    "\n",
    "    # initialize centers by picking first k points (not ideal in general)\n",
    "    new_centers = []\n",
    "    i = 0\n",
    "    while i < k:\n",
    "        new_centers.append(training_set[i])\n",
    "        i += 1\n",
    "\n",
    "  # Doesn't matter what we initialize these to for this hw assignment>should improve for general use\n",
    "  #assignments hold *indices* of points between k cluster sets\n",
    "    old_assignments = [set()] * k\n",
    "    old_centers = [(1,1)]*k\n",
    "    new_assignments = [set()] * k\n",
    "   \n",
    "    # Until the medoids stop updating, do the following:\n",
    "    while not ((old_centers == new_centers) and (old_assignments == new_assignments)):\n",
    "        old_assignments = new_assignments\n",
    "        old_centers = new_centers\n",
    "        new_assignments = [set(), set(), set()]\n",
    "        \n",
    "        # Assign each point to cluster with closest medoid.\n",
    "        clusters = assign_points_to_clusters(new_centers, training_set, distancetype)\n",
    "        for x in range(len(clusters)):\n",
    "            new_assignments[clusters[x][1]].add(x)\n",
    "\n",
    "        # Update cluster medoids to be lowest cost point. \n",
    "        for set_num in range(len(new_assignments)):\n",
    "            s = 10000\n",
    "            for x1 in new_assignments[set_num]:\n",
    "                curr_dist = sum(distancetype(training_set[x1], training_set[x2]) for x2 in new_assignments[set_num])\n",
    "                if curr_dist < s:\n",
    "                    s = curr_dist\n",
    "                    new_centers[set_num] = training_set[x1]\n",
    "        \n",
    "        #idx is a list where index = point and value = cluster assignment. we use this to match index = point \n",
    "        #to an RGB color! We then pylab plot each point (by separating list of x and y coordinates) and apply color\n",
    "        idx = [k[1] for k in clusters]\n",
    "        points_x = [k[0][0] for k in clusters]\n",
    "        points_y = [k[0][1] for k in clusters]\n",
    "        colors = ([([0.4,1,0.4],[1,0.4,0.4],[0.1,0.8,1])[i] for i in idx])\n",
    "        pylab.scatter(points_x, points_y, c=colors)\n",
    "        pylab.show()\n",
    "\n",
    "    return new_assignments, new_centers"
   ]
  },
  {
   "cell_type": "code",
   "execution_count": 27,
   "metadata": {
    "collapsed": true
   },
   "outputs": [],
   "source": [
    "#returns: [[point1, cluster],..]. list of length = number of training points\n",
    "def assign_points_to_clusters(medoids, training_set, distancetype):\n",
    "    min_dist = [] #array of m distances to the nearest cluster, and the cluster assignment [(dist1, cluster),..]\n",
    "    clusters = []\n",
    "    for x in range(len(training_set)):\n",
    "        min_dist.append(min((distancetype(training_set[x], k), i) for i, k in enumerate(medoids)))#edit with distance type\n",
    "        clusters.append([training_set[x],min_dist[x][1]])\n",
    "    return clusters"
   ]
  },
  {
   "cell_type": "code",
   "execution_count": 30,
   "metadata": {
    "collapsed": false
   },
   "outputs": [
    {
     "data": {
      "text/plain": [
       "([{0, 3, 6, 7}, {1, 4, 5}, {2}], [[-1, -2], [4, 4], [0, -6]])"
      ]
     },
     "execution_count": 30,
     "metadata": {},
     "output_type": "execute_result"
    }
   ],
   "source": [
    "#example, want 3 clusters for the given points using l∞ measurement:\n",
    "cluster([[-5,2],[4,4],[0,-6],[0,0],[6,6],[1,2],[-1,-2],[-4,-1]],linf, 3)"
   ]
  },
  {
   "cell_type": "code",
   "execution_count": null,
   "metadata": {
    "collapsed": true
   },
   "outputs": [],
   "source": []
  },
  {
   "cell_type": "code",
   "execution_count": null,
   "metadata": {
    "collapsed": true
   },
   "outputs": [],
   "source": []
  },
  {
   "cell_type": "code",
   "execution_count": null,
   "metadata": {
    "collapsed": true
   },
   "outputs": [],
   "source": []
  },
  {
   "cell_type": "code",
   "execution_count": null,
   "metadata": {
    "collapsed": true
   },
   "outputs": [],
   "source": []
  }
 ],
 "metadata": {
  "kernelspec": {
   "display_name": "Python 3",
   "language": "python",
   "name": "python3"
  },
  "language_info": {
   "codemirror_mode": {
    "name": "ipython",
    "version": 3
   },
   "file_extension": ".py",
   "mimetype": "text/x-python",
   "name": "python",
   "nbconvert_exporter": "python",
   "pygments_lexer": "ipython3",
   "version": "3.5.1"
  }
 },
 "nbformat": 4,
 "nbformat_minor": 0
}
